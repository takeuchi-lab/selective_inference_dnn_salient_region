{
 "cells": [
  {
   "cell_type": "markdown",
   "metadata": {},
   "source": [
    "# Import Module"
   ]
  },
  {
   "cell_type": "code",
   "execution_count": 1,
   "metadata": {},
   "outputs": [
    {
     "name": "stderr",
     "output_type": "stream",
     "text": [
      "2022-09-29 18:50:44.109870: W tensorflow/stream_executor/platform/default/dso_loader.cc:64] Could not load dynamic library 'libcudart.so.11.0'; dlerror: libcudart.so.11.0: cannot open shared object file: No such file or directory; LD_LIBRARY_PATH: /home/miwa.daiki/.local/lib:/home/miwa.daiki/.local/lib::/usr/local/cuda/extras/CUPTI/lib64:/home/miwa.daiki/.local/cuda/lib64:/usr/local/cuda/extras/CUPTI/lib64:/home/miwa.daiki/.local/cuda/lib64\n",
      "2022-09-29 18:50:44.109898: I tensorflow/stream_executor/cuda/cudart_stub.cc:29] Ignore above cudart dlerror if you do not have a GPU set up on your machine.\n"
     ]
    }
   ],
   "source": [
    "import tensorflow as tf\n",
    "import numpy as np\n",
    "import matplotlib.pyplot as plt\n",
    "from scipy import stats\n",
    "\n",
    "import numpy as np\n",
    "\n",
    "import models\n",
    "import data\n",
    "from si4dnn import cam_si"
   ]
  },
  {
   "cell_type": "markdown",
   "metadata": {},
   "source": [
    "# Define and Train Model"
   ]
  },
  {
   "cell_type": "code",
   "execution_count": 18,
   "metadata": {},
   "outputs": [],
   "source": [
    "d = 16\n",
    "shape = (d,d,1)\n",
    "\n",
    "# define simple CNN for classification \n",
    "inputs = keras.layers.Input(shape=shape)\n",
    "conv1 = keras.layers.Conv2D(4,(3,3),padding=\"same\", activation=\"relu\")(inputs)\n",
    "conv2 = keras.layers.Conv2D(4,(3,3),padding=\"same\",activation=\"relu\")(conv1)\n",
    "maxpool1 = keras.layers.MaxPool2D((2,2))(conv2)\n",
    "conv3 = keras.layers.Conv2D(4,(3,3),padding=\"same\", activation=\"relu\")(maxpool1)\n",
    "conv4 = keras.layers.Conv2D(4,(3,3),padding=\"same\",activation=\"relu\")(conv3)\n",
    "up1 = keras.layers.UpSampling2D((2,2))(conv4)\n",
    "gap1 = keras.layers.GlobalAveragePooling2D()(up1)\n",
    "dense1 = keras.layers.Dense(1,activation=\"sigmoid\")(gap1)\n",
    "model = keras.Model(inputs=inputs,outputs=dense1)\n",
    "\n",
    "# Train model\n",
    "X,Y = data.generate_data_classification(shape,1000,0,2)\n",
    "model.compile(optimizer=\"adam\",loss=\"binary_crossentropy\", metrics=[\"accuracy\"])\n",
    "checkpointer = tf.keras.callbacks.ModelCheckpoint(\n",
    "f\"./classification_model/model_{d}\" + \".h5\", verbose=1, save_best_only=True\n",
    ")\n",
    "results = model.fit(\n",
    "    X, Y, validation_split=0.3, epochs=100, callbacks=[checkpointer]\n",
    ")\n",
    "\n",
    "# Add Cam Component\n",
    "layers = model.layers\n",
    "cam = models.CAM(\n",
    "    layers[-1], shape)([layers[-3].output, layers[-1].output])\n",
    "model_with_cam = tf.keras.Model(inputs=model.input, outputs=cam)"
   ]
  },
  {
   "cell_type": "markdown",
   "metadata": {},
   "source": [
    "# Selective Inference for Saliency Map "
   ]
  },
  {
   "cell_type": "code",
   "execution_count": 35,
   "metadata": {},
   "outputs": [],
   "source": [
    "# generate data\n",
    "X = data.generate_data_classification(shape,1,0,1,True)\n",
    "X_ref = data.generate_data_classification(shape,1,0,1,True)\n",
    "output = model_with_cam.predict(X)[0]"
   ]
  },
  {
   "cell_type": "code",
   "execution_count": null,
   "metadata": {},
   "outputs": [],
   "source": [
    "# compute selective p value for Mean Null Test\n",
    "# Once you defined model which output CAM with Keras, you can compute p value by following code\n",
    "\n",
    "cam_si_thr = cam_si.si4dnn_cam_si_thr_abs(model_with_cam,thr=thr)\n",
    "p_value  = cam_si_thr.inference(X,ref=X_ref)[0]"
   ]
  }
 ],
 "metadata": {
  "kernelspec": {
   "display_name": "Python 3.10.2 64-bit ('3.10.2')",
   "language": "python",
   "name": "python3"
  },
  "language_info": {
   "codemirror_mode": {
    "name": "ipython",
    "version": 3
   },
   "file_extension": ".py",
   "mimetype": "text/x-python",
   "name": "python",
   "nbconvert_exporter": "python",
   "pygments_lexer": "ipython3",
   "version": "3.10.2"
  },
  "orig_nbformat": 4,
  "vscode": {
   "interpreter": {
    "hash": "7004dfc250d6e50a4bda667538275aa07c3074441b09e0914f8fd8d263866e63"
   }
  }
 },
 "nbformat": 4,
 "nbformat_minor": 2
}
